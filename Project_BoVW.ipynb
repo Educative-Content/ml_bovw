{
  "nbformat": 4,
  "nbformat_minor": 0,
  "metadata": {
    "colab": {
      "provenance": []
    },
    "kernelspec": {
      "name": "python3",
      "display_name": "Python 3"
    },
    "language_info": {
      "name": "python"
    }
  },
  "cells": [
    {
      "cell_type": "markdown",
      "source": [
        "### Task 1: Import General Modules"
      ],
      "metadata": {
        "id": "-B2AKovQirwu"
      }
    },
    {
      "cell_type": "code",
      "source": [],
      "metadata": {
        "id": "LBOkc5OFitcI"
      },
      "execution_count": null,
      "outputs": []
    },
    {
      "cell_type": "markdown",
      "source": [
        "### Task 2: Loading the Dataset"
      ],
      "metadata": {
        "id": "JqIfq-WKixHf"
      }
    },
    {
      "cell_type": "code",
      "source": [],
      "metadata": {
        "id": "iPVZcre9i00w"
      },
      "execution_count": null,
      "outputs": []
    },
    {
      "cell_type": "markdown",
      "source": [
        "### Task 3: Cats vs. Trucks"
      ],
      "metadata": {
        "id": "ne_SXbyCi1j-"
      }
    },
    {
      "cell_type": "code",
      "source": [],
      "metadata": {
        "id": "SB7hEK65i5Ux"
      },
      "execution_count": null,
      "outputs": []
    },
    {
      "cell_type": "markdown",
      "source": [
        "### Task 4: Visualizing Sample Images of Cats and Trucks"
      ],
      "metadata": {
        "id": "TgdUVvv3i8G6"
      }
    },
    {
      "cell_type": "code",
      "source": [],
      "metadata": {
        "id": "C-8zIeCii85x"
      },
      "execution_count": null,
      "outputs": []
    },
    {
      "cell_type": "markdown",
      "source": [
        "### Task 5: Crop Patches"
      ],
      "metadata": {
        "id": "ED72oQDNjAeR"
      }
    },
    {
      "cell_type": "code",
      "source": [],
      "metadata": {
        "id": "JwcEtDSijBPv"
      },
      "execution_count": null,
      "outputs": []
    },
    {
      "cell_type": "markdown",
      "source": [
        "### Task 6: Plotting the Patches"
      ],
      "metadata": {
        "id": "gN1BWl0-jEA4"
      }
    },
    {
      "cell_type": "code",
      "source": [],
      "metadata": {
        "id": "xsqFWrHJjEpg"
      },
      "execution_count": null,
      "outputs": []
    },
    {
      "cell_type": "markdown",
      "source": [
        "### Task 7: Creating Bag of Visual Words"
      ],
      "metadata": {
        "id": "iP-gM_a5jHf1"
      }
    },
    {
      "cell_type": "code",
      "source": [],
      "metadata": {
        "id": "59eu6D5YjIK_"
      },
      "execution_count": null,
      "outputs": []
    },
    {
      "cell_type": "markdown",
      "source": [
        "### Task 8: Making Data Ready for Classifier"
      ],
      "metadata": {
        "id": "GzRIYhI-jK7Z"
      }
    },
    {
      "cell_type": "code",
      "source": [],
      "metadata": {
        "id": "jLNx8eGFjLgu"
      },
      "execution_count": null,
      "outputs": []
    },
    {
      "cell_type": "markdown",
      "source": [
        "### Task 9: Building the Classifier"
      ],
      "metadata": {
        "id": "pNhrK2wWjQUv"
      }
    },
    {
      "cell_type": "code",
      "source": [],
      "metadata": {
        "id": "ElABfmOrjRGN"
      },
      "execution_count": null,
      "outputs": []
    }
  ]
}