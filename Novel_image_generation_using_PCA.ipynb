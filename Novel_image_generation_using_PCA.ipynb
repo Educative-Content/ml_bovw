{
  "nbformat": 4,
  "nbformat_minor": 0,
  "metadata": {
    "colab": {
      "provenance": []
    },
    "kernelspec": {
      "name": "python3",
      "display_name": "Python 3"
    },
    "language_info": {
      "name": "python"
    }
  },
  "cells": [
    {
      "cell_type": "markdown",
      "source": [
        "## Loading and preprocessing the data:\n"
      ],
      "metadata": {
        "id": "Jzz91zjw7oz4"
      }
    },
    {
      "cell_type": "code",
      "source": [],
      "metadata": {
        "id": "MafEQctu7vBf"
      },
      "execution_count": null,
      "outputs": []
    },
    {
      "cell_type": "code",
      "source": [],
      "metadata": {
        "id": "FhuL2y3425PI"
      },
      "execution_count": null,
      "outputs": []
    },
    {
      "cell_type": "code",
      "source": [],
      "metadata": {
        "id": "WyLvycSd-C_I"
      },
      "execution_count": null,
      "outputs": []
    },
    {
      "cell_type": "markdown",
      "source": [
        "## Unveiling the magic of PCA"
      ],
      "metadata": {
        "id": "CLPSwxK9P_ZW"
      }
    },
    {
      "cell_type": "code",
      "source": [],
      "metadata": {
        "id": "5OKUe4e_E0Ic"
      },
      "execution_count": null,
      "outputs": []
    },
    {
      "cell_type": "code",
      "source": [],
      "metadata": {
        "id": "OmEpJNxrGSjL"
      },
      "execution_count": null,
      "outputs": []
    },
    {
      "cell_type": "code",
      "source": [],
      "metadata": {
        "id": "3fWtGm8pHwv7"
      },
      "execution_count": null,
      "outputs": []
    },
    {
      "cell_type": "markdown",
      "source": [
        "## Reconstructing images using PCA\n"
      ],
      "metadata": {
        "id": "eGZBpE41JvDB"
      }
    },
    {
      "cell_type": "code",
      "source": [],
      "metadata": {
        "id": "OpDQpDAzzmZ_"
      },
      "execution_count": null,
      "outputs": []
    },
    {
      "cell_type": "code",
      "source": [],
      "metadata": {
        "id": "rZjq091v7db5"
      },
      "execution_count": null,
      "outputs": []
    },
    {
      "cell_type": "code",
      "source": [],
      "metadata": {
        "id": "KksRq5r47eGH"
      },
      "execution_count": null,
      "outputs": []
    },
    {
      "cell_type": "markdown",
      "source": [
        "## Generating new images using PCA"
      ],
      "metadata": {
        "id": "vzKPTWua7fAh"
      }
    },
    {
      "cell_type": "code",
      "source": [],
      "metadata": {
        "id": "eTr3Qpqf7oHZ"
      },
      "execution_count": null,
      "outputs": []
    },
    {
      "cell_type": "code",
      "source": [],
      "metadata": {
        "id": "L0kkgDlH7tLi"
      },
      "execution_count": null,
      "outputs": []
    },
    {
      "cell_type": "code",
      "source": [],
      "metadata": {
        "id": "f-CXoXGU7tCF"
      },
      "execution_count": null,
      "outputs": []
    },
    {
      "cell_type": "markdown",
      "source": [
        "## Exploring parameters"
      ],
      "metadata": {
        "id": "YdcqxYmR7tiM"
      }
    },
    {
      "cell_type": "code",
      "source": [],
      "metadata": {
        "id": "mh88AvrG7uV5"
      },
      "execution_count": null,
      "outputs": []
    },
    {
      "cell_type": "code",
      "source": [],
      "metadata": {
        "id": "ydMWXJ7Q8BhG"
      },
      "execution_count": null,
      "outputs": []
    },
    {
      "cell_type": "code",
      "source": [],
      "metadata": {
        "id": "iUck4_J28Bcb"
      },
      "execution_count": null,
      "outputs": []
    },
    {
      "cell_type": "markdown",
      "source": [
        "## State-of-the-art image generators"
      ],
      "metadata": {
        "id": "5n964Sad8B_E"
      }
    },
    {
      "cell_type": "code",
      "source": [],
      "metadata": {
        "id": "BzRLgQx58E1k"
      },
      "execution_count": null,
      "outputs": []
    }
  ]
}